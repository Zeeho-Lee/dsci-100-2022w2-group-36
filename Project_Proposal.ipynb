{
 "cells": [
  {
   "cell_type": "markdown",
   "id": "207e6076-74aa-4897-aa07-82cd2dfdbb47",
   "metadata": {},
   "source": [
    "## Project Proposal"
   ]
  },
  {
   "cell_type": "markdown",
   "id": "d50ce69c-d9aa-44f6-9f36-fa4ddb79982c",
   "metadata": {},
   "source": [
    "Introduction <br>\n",
    "Preliminary Results <br>\n",
    "Methods: Plan <br>\n",
    "References"
   ]
  },
  {
   "cell_type": "code",
   "execution_count": null,
   "id": "6b98341e-d958-4a33-b062-76494d8e237b",
   "metadata": {},
   "outputs": [],
   "source": []
  }
 ],
 "metadata": {
  "kernelspec": {
   "display_name": "R",
   "language": "R",
   "name": "ir"
  },
  "language_info": {
   "codemirror_mode": "r",
   "file_extension": ".r",
   "mimetype": "text/x-r-source",
   "name": "R",
   "pygments_lexer": "r",
   "version": "4.1.3"
  }
 },
 "nbformat": 4,
 "nbformat_minor": 5
}
