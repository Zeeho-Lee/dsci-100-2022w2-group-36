{
 "cells": [
  {
   "cell_type": "markdown",
   "id": "207e6076-74aa-4897-aa07-82cd2dfdbb47",
   "metadata": {},
   "source": [
    "## Project Proposal"
   ]
  },
  {
   "cell_type": "markdown",
   "id": "d50ce69c-d9aa-44f6-9f36-fa4ddb79982c",
   "metadata": {},
   "source": [
    "#### STAT 201: Statistical Inference for Data Science\n",
    "#### Group 36<br>\n",
    "\n",
    "Jenny Lee"
   ]
  },
  {
   "cell_type": "markdown",
   "id": "e42578c1-737b-4bec-aedc-dfd46ac9d6bf",
   "metadata": {},
   "source": [
    "#### Introduction <br>"
   ]
  },
  {
   "cell_type": "markdown",
   "id": "b41be7a7-838b-4f67-8005-0c6e9eb63408",
   "metadata": {},
   "source": [
    "#### Preliminary Results <br>"
   ]
  },
  {
   "cell_type": "markdown",
   "id": "3dbe0757-eae9-4cde-abd5-74410c7d516c",
   "metadata": {},
   "source": [
    "#### Methods: Plan <br>"
   ]
  },
  {
   "cell_type": "markdown",
   "id": "da2f5f4c-b36b-4754-9111-6e203a73cac3",
   "metadata": {},
   "source": [
    "#### References<br>"
   ]
  },
  {
   "cell_type": "code",
   "execution_count": null,
   "id": "19dff435-9727-4054-8aa2-0cfa562ccea9",
   "metadata": {},
   "outputs": [],
   "source": []
  }
 ],
 "metadata": {
  "kernelspec": {
   "display_name": "R",
   "language": "R",
   "name": "ir"
  },
  "language_info": {
   "codemirror_mode": "r",
   "file_extension": ".r",
   "mimetype": "text/x-r-source",
   "name": "R",
   "pygments_lexer": "r",
   "version": "4.1.3"
  }
 },
 "nbformat": 4,
 "nbformat_minor": 5
}
