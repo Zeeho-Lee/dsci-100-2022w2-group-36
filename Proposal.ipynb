{
 "cells": [
  {
   "cell_type": "code",
   "execution_count": 1,
   "id": "7ce78caa-6645-44e5-93c2-a73ad9b5c43c",
   "metadata": {},
   "outputs": [
    {
     "name": "stderr",
     "output_type": "stream",
     "text": [
      "── \u001b[1mAttaching packages\u001b[22m ─────────────────────────────────────── tidyverse 1.3.2 ──\n",
      "\u001b[32m✔\u001b[39m \u001b[34mggplot2\u001b[39m 3.3.6      \u001b[32m✔\u001b[39m \u001b[34mpurrr  \u001b[39m 0.3.4 \n",
      "\u001b[32m✔\u001b[39m \u001b[34mtibble \u001b[39m 3.1.8      \u001b[32m✔\u001b[39m \u001b[34mdplyr  \u001b[39m 1.0.10\n",
      "\u001b[32m✔\u001b[39m \u001b[34mtidyr  \u001b[39m 1.2.1      \u001b[32m✔\u001b[39m \u001b[34mstringr\u001b[39m 1.4.1 \n",
      "\u001b[32m✔\u001b[39m \u001b[34mreadr  \u001b[39m 2.1.2      \u001b[32m✔\u001b[39m \u001b[34mforcats\u001b[39m 0.5.2 \n",
      "── \u001b[1mConflicts\u001b[22m ────────────────────────────────────────── tidyverse_conflicts() ──\n",
      "\u001b[31m✖\u001b[39m \u001b[34mdplyr\u001b[39m::\u001b[32mfilter()\u001b[39m masks \u001b[34mstats\u001b[39m::filter()\n",
      "\u001b[31m✖\u001b[39m \u001b[34mdplyr\u001b[39m::\u001b[32mlag()\u001b[39m    masks \u001b[34mstats\u001b[39m::lag()\n",
      "Registered S3 method overwritten by 'GGally':\n",
      "  method from   \n",
      "  +.gg   ggplot2\n",
      "\n",
      "\n",
      "Attaching package: ‘gridExtra’\n",
      "\n",
      "\n",
      "The following object is masked from ‘package:dplyr’:\n",
      "\n",
      "    combine\n",
      "\n",
      "\n"
     ]
    }
   ],
   "source": [
    "library(tidyverse)\n",
    "library(GGally)\n",
    "library(infer)\n",
    "library(gridExtra)"
   ]
  },
  {
   "cell_type": "code",
   "execution_count": 2,
   "id": "5ecf7cd3-1cdc-4c17-b4ba-1e818301e87c",
   "metadata": {},
   "outputs": [
    {
     "data": {
      "text/html": [
       "<table class=\"dataframe\">\n",
       "<caption>A data.frame: 6 × 13</caption>\n",
       "<thead>\n",
       "\t<tr><th></th><th scope=col>X</th><th scope=col>Y</th><th scope=col>month</th><th scope=col>day</th><th scope=col>FFMC</th><th scope=col>DMC</th><th scope=col>DC</th><th scope=col>ISI</th><th scope=col>temp</th><th scope=col>RH</th><th scope=col>wind</th><th scope=col>rain</th><th scope=col>area</th></tr>\n",
       "\t<tr><th></th><th scope=col>&lt;int&gt;</th><th scope=col>&lt;int&gt;</th><th scope=col>&lt;chr&gt;</th><th scope=col>&lt;chr&gt;</th><th scope=col>&lt;dbl&gt;</th><th scope=col>&lt;dbl&gt;</th><th scope=col>&lt;dbl&gt;</th><th scope=col>&lt;dbl&gt;</th><th scope=col>&lt;dbl&gt;</th><th scope=col>&lt;int&gt;</th><th scope=col>&lt;dbl&gt;</th><th scope=col>&lt;dbl&gt;</th><th scope=col>&lt;dbl&gt;</th></tr>\n",
       "</thead>\n",
       "<tbody>\n",
       "\t<tr><th scope=row>1</th><td>7</td><td>5</td><td>mar</td><td>fri</td><td>86.2</td><td>26.2</td><td> 94.3</td><td> 5.1</td><td> 8.2</td><td>51</td><td>6.7</td><td>0.0</td><td>0</td></tr>\n",
       "\t<tr><th scope=row>2</th><td>7</td><td>4</td><td>oct</td><td>tue</td><td>90.6</td><td>35.4</td><td>669.1</td><td> 6.7</td><td>18.0</td><td>33</td><td>0.9</td><td>0.0</td><td>0</td></tr>\n",
       "\t<tr><th scope=row>3</th><td>7</td><td>4</td><td>oct</td><td>sat</td><td>90.6</td><td>43.7</td><td>686.9</td><td> 6.7</td><td>14.6</td><td>33</td><td>1.3</td><td>0.0</td><td>0</td></tr>\n",
       "\t<tr><th scope=row>4</th><td>8</td><td>6</td><td>mar</td><td>fri</td><td>91.7</td><td>33.3</td><td> 77.5</td><td> 9.0</td><td> 8.3</td><td>97</td><td>4.0</td><td>0.2</td><td>0</td></tr>\n",
       "\t<tr><th scope=row>5</th><td>8</td><td>6</td><td>mar</td><td>sun</td><td>89.3</td><td>51.3</td><td>102.2</td><td> 9.6</td><td>11.4</td><td>99</td><td>1.8</td><td>0.0</td><td>0</td></tr>\n",
       "\t<tr><th scope=row>6</th><td>8</td><td>6</td><td>aug</td><td>sun</td><td>92.3</td><td>85.3</td><td>488.0</td><td>14.7</td><td>22.2</td><td>29</td><td>5.4</td><td>0.0</td><td>0</td></tr>\n",
       "</tbody>\n",
       "</table>\n"
      ],
      "text/latex": [
       "A data.frame: 6 × 13\n",
       "\\begin{tabular}{r|lllllllllllll}\n",
       "  & X & Y & month & day & FFMC & DMC & DC & ISI & temp & RH & wind & rain & area\\\\\n",
       "  & <int> & <int> & <chr> & <chr> & <dbl> & <dbl> & <dbl> & <dbl> & <dbl> & <int> & <dbl> & <dbl> & <dbl>\\\\\n",
       "\\hline\n",
       "\t1 & 7 & 5 & mar & fri & 86.2 & 26.2 &  94.3 &  5.1 &  8.2 & 51 & 6.7 & 0.0 & 0\\\\\n",
       "\t2 & 7 & 4 & oct & tue & 90.6 & 35.4 & 669.1 &  6.7 & 18.0 & 33 & 0.9 & 0.0 & 0\\\\\n",
       "\t3 & 7 & 4 & oct & sat & 90.6 & 43.7 & 686.9 &  6.7 & 14.6 & 33 & 1.3 & 0.0 & 0\\\\\n",
       "\t4 & 8 & 6 & mar & fri & 91.7 & 33.3 &  77.5 &  9.0 &  8.3 & 97 & 4.0 & 0.2 & 0\\\\\n",
       "\t5 & 8 & 6 & mar & sun & 89.3 & 51.3 & 102.2 &  9.6 & 11.4 & 99 & 1.8 & 0.0 & 0\\\\\n",
       "\t6 & 8 & 6 & aug & sun & 92.3 & 85.3 & 488.0 & 14.7 & 22.2 & 29 & 5.4 & 0.0 & 0\\\\\n",
       "\\end{tabular}\n"
      ],
      "text/markdown": [
       "\n",
       "A data.frame: 6 × 13\n",
       "\n",
       "| <!--/--> | X &lt;int&gt; | Y &lt;int&gt; | month &lt;chr&gt; | day &lt;chr&gt; | FFMC &lt;dbl&gt; | DMC &lt;dbl&gt; | DC &lt;dbl&gt; | ISI &lt;dbl&gt; | temp &lt;dbl&gt; | RH &lt;int&gt; | wind &lt;dbl&gt; | rain &lt;dbl&gt; | area &lt;dbl&gt; |\n",
       "|---|---|---|---|---|---|---|---|---|---|---|---|---|---|\n",
       "| 1 | 7 | 5 | mar | fri | 86.2 | 26.2 |  94.3 |  5.1 |  8.2 | 51 | 6.7 | 0.0 | 0 |\n",
       "| 2 | 7 | 4 | oct | tue | 90.6 | 35.4 | 669.1 |  6.7 | 18.0 | 33 | 0.9 | 0.0 | 0 |\n",
       "| 3 | 7 | 4 | oct | sat | 90.6 | 43.7 | 686.9 |  6.7 | 14.6 | 33 | 1.3 | 0.0 | 0 |\n",
       "| 4 | 8 | 6 | mar | fri | 91.7 | 33.3 |  77.5 |  9.0 |  8.3 | 97 | 4.0 | 0.2 | 0 |\n",
       "| 5 | 8 | 6 | mar | sun | 89.3 | 51.3 | 102.2 |  9.6 | 11.4 | 99 | 1.8 | 0.0 | 0 |\n",
       "| 6 | 8 | 6 | aug | sun | 92.3 | 85.3 | 488.0 | 14.7 | 22.2 | 29 | 5.4 | 0.0 | 0 |\n",
       "\n"
      ],
      "text/plain": [
       "  X Y month day FFMC DMC  DC    ISI  temp RH wind rain area\n",
       "1 7 5 mar   fri 86.2 26.2  94.3  5.1  8.2 51 6.7  0.0  0   \n",
       "2 7 4 oct   tue 90.6 35.4 669.1  6.7 18.0 33 0.9  0.0  0   \n",
       "3 7 4 oct   sat 90.6 43.7 686.9  6.7 14.6 33 1.3  0.0  0   \n",
       "4 8 6 mar   fri 91.7 33.3  77.5  9.0  8.3 97 4.0  0.2  0   \n",
       "5 8 6 mar   sun 89.3 51.3 102.2  9.6 11.4 99 1.8  0.0  0   \n",
       "6 8 6 aug   sun 92.3 85.3 488.0 14.7 22.2 29 5.4  0.0  0   "
      ]
     },
     "metadata": {},
     "output_type": "display_data"
    }
   ],
   "source": [
    "forestfires_data <- read.csv(\"https://archive.ics.uci.edu/ml/machine-learning-databases/forest-fires/forestfires.csv\")\n",
    "\n",
    "head(forestfires_data)"
   ]
  },
  {
   "cell_type": "code",
   "execution_count": 1,
   "id": "cc9f5151-be8c-4a8e-9601-55fb2a85076c",
   "metadata": {},
   "outputs": [],
   "source": [
    "#test"
   ]
  }
 ],
 "metadata": {
  "kernelspec": {
   "display_name": "R",
   "language": "R",
   "name": "ir"
  },
  "language_info": {
   "codemirror_mode": "r",
   "file_extension": ".r",
   "mimetype": "text/x-r-source",
   "name": "R",
   "pygments_lexer": "r",
   "version": "4.1.3"
  }
 },
 "nbformat": 4,
 "nbformat_minor": 5
}
